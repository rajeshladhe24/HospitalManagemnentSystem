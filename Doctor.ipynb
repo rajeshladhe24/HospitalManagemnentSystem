{
 "cells": [
  {
   "cell_type": "code",
   "execution_count": 5,
   "id": "a1b12d6b",
   "metadata": {},
   "outputs": [
    {
     "name": "stdout",
     "output_type": "stream",
     "text": [
      "('abc_hospital_oct',)\n",
      "('abc_hospital_sept',)\n",
      "('aryan',)\n",
      "('f',)\n",
      "('information_schema',)\n",
      "('mysql',)\n",
      "('performance_schema',)\n",
      "('raj',)\n",
      "('rajesh',)\n",
      "('raju',)\n",
      "('sakila',)\n",
      "('sample',)\n",
      "('sample1',)\n",
      "('students_data',)\n",
      "('sys',)\n",
      "('world',)\n",
      "Select the database name of current monthsample\n",
      "['patient_id', 'patient_name', 'patient_gender', 'patient_mobile', 'patient_address']\n",
      "[(1, 'raj', 'm', 777, 'indore')]\n",
      "patient_id : 1\n",
      "patient_name : raj\n",
      "patient_gender : m\n",
      "patient_mobile : 777\n",
      "patient_address : indore\n",
      "\n"
     ]
    }
   ],
   "source": [
    "import mysql.connector as sql\n",
    "from datetime import date\n",
    "from datetime import time\n",
    "from datetime import datetime\n",
    "#MY-SQL Connection\n",
    "try:\n",
    "  con = sql.connect(\n",
    "  host=\"localhost\",\n",
    "  user=\"root\",\n",
    "  password=\"root\"\n",
    "  )\n",
    "except Exception as e:\n",
    "  print(e)\n",
    "\n",
    "#show databases\n",
    "cursor = con.cursor()\n",
    "query = 'show databases'\n",
    "cursor.execute(query)\n",
    "for db in cursor: \n",
    "    print(db)\n",
    "var_1d=input(\"Select the database name of current month\")\n",
    "try:\n",
    "    cursor=con.cursor()\n",
    "    #select_database=input(\"Select the database to open\")\n",
    "    query=f'use {var_1d}'\n",
    "    query=cursor.execute(query)\n",
    "except Exception as e:\n",
    "    print(e)\n",
    "\n",
    "#tbl_name = input(\"Enter the name of table\")\n",
    "cursor = con.cursor()\n",
    "query =f\"desc ABC_Hospital_Patient_Records\"\n",
    "cursor.execute(query)\n",
    "header =list()\n",
    "for i in cursor:\n",
    "    header.append(i[0])\n",
    "print(header)\n",
    "\n",
    "query =f\"select * from ABC_Hospital_Patient_Records\"\n",
    "cursor.execute(query)\n",
    "data=list()\n",
    "for i in cursor:\n",
    "    data.append(i)\n",
    "print(data)\n",
    "\n",
    "for i in range(len(data)):\n",
    "    for h,v in zip(header,data[i]):\n",
    "        print(f'{h:<10} : {v}')\n",
    "    print()\n",
    "\n"
   ]
  },
  {
   "cell_type": "code",
   "execution_count": null,
   "id": "91c143b3",
   "metadata": {},
   "outputs": [],
   "source": []
  }
 ],
 "metadata": {
  "kernelspec": {
   "display_name": "Python 3 (ipykernel)",
   "language": "python",
   "name": "python3"
  },
  "language_info": {
   "codemirror_mode": {
    "name": "ipython",
    "version": 3
   },
   "file_extension": ".py",
   "mimetype": "text/x-python",
   "name": "python",
   "nbconvert_exporter": "python",
   "pygments_lexer": "ipython3",
   "version": "3.11.3"
  }
 },
 "nbformat": 4,
 "nbformat_minor": 5
}
